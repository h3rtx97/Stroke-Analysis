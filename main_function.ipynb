{
 "cells": [
  {
   "cell_type": "code",
   "execution_count": 1,
   "id": "3b07dcc0-bc76-47f8-bd36-994e81f2bfca",
   "metadata": {},
   "outputs": [],
   "source": [
    "import ui_module\n",
    "from dataset_module import load_dataset\n",
    "import query_module as qm"
   ]
  },
  {
   "cell_type": "code",
   "execution_count": null,
   "id": "7cf0ade9-59f5-48d6-a392-022b9ef9d7f9",
   "metadata": {},
   "outputs": [],
   "source": [
    "a = load_dataset('data.csv')\n",
    "a"
   ]
  },
  {
   "cell_type": "code",
   "execution_count": null,
   "id": "b450153a-c66a-445e-9f65-8e4887c875f3",
   "metadata": {},
   "outputs": [],
   "source": [
    "r = qm.urban_rural_stroke(a)\n",
    "r"
   ]
  },
  {
   "cell_type": "code",
   "execution_count": null,
   "id": "17a5270d-cc5c-4453-9fa8-e18e938b65ab",
   "metadata": {},
   "outputs": [],
   "source": [
    "%run ui_module.py"
   ]
  },
  {
   "cell_type": "code",
   "execution_count": null,
   "id": "7a2fdfbf-b463-472b-94e7-56e27b5a8ada",
   "metadata": {},
   "outputs": [],
   "source": []
  }
 ],
 "metadata": {
  "kernelspec": {
   "display_name": "Python [conda env:base] *",
   "language": "python",
   "name": "conda-base-py"
  },
  "language_info": {
   "codemirror_mode": {
    "name": "ipython",
    "version": 3
   },
   "file_extension": ".py",
   "mimetype": "text/x-python",
   "name": "python",
   "nbconvert_exporter": "python",
   "pygments_lexer": "ipython3",
   "version": "3.12.7"
  }
 },
 "nbformat": 4,
 "nbformat_minor": 5
}
